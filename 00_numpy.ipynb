{
 "cells": [
  {
   "cell_type": "code",
   "execution_count": 2,
   "id": "7a3ee526-d4dc-4ad4-b271-5c4a705614ad",
   "metadata": {},
   "outputs": [],
   "source": [
    "a = [1,2,3]    # 1차원 배열\n",
    "a = [          # 2차원 배열 \n",
    "    [1,2,3],\n",
    "    [4,5,6],\n",
    "    [7,8,9]\n",
    "]\n",
    "\n",
    "# numpy의 가장 큰 장점 : powerful n-dimensional arrays (점점 복잡해지는 리스트를 차원으로 쉽게 접근)"
   ]
  },
  {
   "cell_type": "code",
   "execution_count": 4,
   "id": "906e221e-d6a1-4ab1-a9ab-bb066f1d5ad8",
   "metadata": {},
   "outputs": [],
   "source": [
    "import numpy as np"
   ]
  },
  {
   "cell_type": "code",
   "execution_count": 9,
   "id": "0e3b8d76-3d77-4f17-a9af-3373e4b7358f",
   "metadata": {},
   "outputs": [
    {
     "name": "stdout",
     "output_type": "stream",
     "text": [
      "[     0      1      2 ... 999997 999998 999999]\n"
     ]
    }
   ],
   "source": [
    "my_arr = np.arange(1000000)\n",
    "# my_list = list(range(100000))\n",
    "\n",
    "print(my_arr)\n",
    "# print(my_list)"
   ]
  },
  {
   "cell_type": "code",
   "execution_count": 13,
   "id": "e891499c-e785-4130-b7ba-95ff2512ec48",
   "metadata": {},
   "outputs": [
    {
     "name": "stdout",
     "output_type": "stream",
     "text": [
      "1.62 ms ± 18.3 μs per loop (mean ± std. dev. of 7 runs, 1,000 loops each)\n",
      "2.52 ms ± 14.1 μs per loop (mean ± std. dev. of 7 runs, 100 loops each)\n"
     ]
    }
   ],
   "source": [
    "%timeit my_arr2 = my_arr * 2\n",
    "%timeit my_list2 = [ x * 2 for x in my_list]"
   ]
  },
  {
   "cell_type": "code",
   "execution_count": 14,
   "id": "c490e795-7f73-4308-bc1e-6390ef9d3336",
   "metadata": {},
   "outputs": [
    {
     "name": "stdout",
     "output_type": "stream",
     "text": [
      "[[   5.     1.1   -5. ]\n",
      " [ 123.  -123.     0. ]]\n"
     ]
    }
   ],
   "source": [
    "a = [\n",
    "    [5,1.1,-5],\n",
    "    [123,-123,0]\n",
    "]\n",
    "data = np.array(a)\n",
    "print(data)"
   ]
  },
  {
   "cell_type": "code",
   "execution_count": 17,
   "id": "e02c8459-1e82-46b2-8145-bba8cf505887",
   "metadata": {},
   "outputs": [
    {
     "name": "stdout",
     "output_type": "stream",
     "text": [
      "[[   50.    11.   -50.]\n",
      " [ 1230. -1230.     0.]]\n",
      "[[  10.     2.2  -10. ]\n",
      " [ 246.  -246.     0. ]]\n"
     ]
    }
   ],
   "source": [
    "print(data * 10)\n",
    "print(data + data)"
   ]
  },
  {
   "cell_type": "code",
   "execution_count": 18,
   "id": "b68cf60b-15ab-4133-90d1-885078f6b04c",
   "metadata": {},
   "outputs": [
    {
     "name": "stdout",
     "output_type": "stream",
     "text": [
      "(2, 3)\n"
     ]
    }
   ],
   "source": [
    "print(data.shape)"
   ]
  },
  {
   "cell_type": "code",
   "execution_count": 19,
   "id": "9e67e4dc-af07-4dd4-a9ac-8fbb368696fd",
   "metadata": {},
   "outputs": [
    {
     "name": "stdout",
     "output_type": "stream",
     "text": [
      "float64\n"
     ]
    }
   ],
   "source": [
    "print(data.dtype)"
   ]
  },
  {
   "cell_type": "markdown",
   "id": "7ddab5ea-1409-444c-815e-bba4f8a802ca",
   "metadata": {},
   "source": [
    "# 1.1 ndarray 생성"
   ]
  },
  {
   "cell_type": "code",
   "execution_count": 25,
   "id": "d844e71f-da55-4d04-955d-ba8a1bff148b",
   "metadata": {},
   "outputs": [
    {
     "name": "stdout",
     "output_type": "stream",
     "text": [
      "[4.  1.  2.  6.  3.1]\n"
     ]
    }
   ],
   "source": [
    "my_list = [4, 1, 2, 6, 3.1]\n",
    "arr = np.array(my_list)\n",
    "print(arr)"
   ]
  },
  {
   "cell_type": "code",
   "execution_count": 26,
   "id": "4b8acb8e-444b-4f0d-ae17-5564c8505fb1",
   "metadata": {},
   "outputs": [
    {
     "name": "stdout",
     "output_type": "stream",
     "text": [
      "[[1 2 3 4]\n",
      " [5 6 7 8]]\n"
     ]
    }
   ],
   "source": [
    "my_list2 = [1, 2, 3, 4], [5, 6, 7, 8]\n",
    "arr2 = np.array(my_list2)\n",
    "print(arr2)"
   ]
  },
  {
   "cell_type": "code",
   "execution_count": 28,
   "id": "d76f9cd0-289d-49ee-9a7b-0b113b7261bd",
   "metadata": {},
   "outputs": [
    {
     "name": "stdout",
     "output_type": "stream",
     "text": [
      "float64\n",
      "int64\n"
     ]
    }
   ],
   "source": [
    "print(arr.dtype)\n",
    "print(arr2.dtype)"
   ]
  },
  {
   "cell_type": "code",
   "execution_count": 29,
   "id": "ad0f63b0-9273-4af6-a64e-beb1fc306b4d",
   "metadata": {},
   "outputs": [
    {
     "name": "stdout",
     "output_type": "stream",
     "text": [
      "1\n",
      "2\n"
     ]
    }
   ],
   "source": [
    "print(arr.ndim)\n",
    "print(arr2.ndim)"
   ]
  },
  {
   "cell_type": "code",
   "execution_count": 31,
   "id": "24f8068d-2690-4116-ab74-e7933d23f510",
   "metadata": {},
   "outputs": [
    {
     "name": "stdout",
     "output_type": "stream",
     "text": [
      "(5,)\n",
      "(2, 4)\n"
     ]
    }
   ],
   "source": [
    "print(arr.shape)\n",
    "print(arr2.shape)"
   ]
  },
  {
   "cell_type": "code",
   "execution_count": 32,
   "id": "66bfc760-ffa1-4ec5-983a-2e5fdfe42f53",
   "metadata": {},
   "outputs": [
    {
     "data": {
      "text/plain": [
       "array([0., 0., 0., 0., 0., 0., 0., 0., 0., 0.])"
      ]
     },
     "execution_count": 32,
     "metadata": {},
     "output_type": "execute_result"
    }
   ],
   "source": [
    "np.zeros(10)"
   ]
  },
  {
   "cell_type": "code",
   "execution_count": 35,
   "id": "b0f6a76f-a674-460d-8bdf-e7a5d61bae48",
   "metadata": {},
   "outputs": [
    {
     "name": "stdout",
     "output_type": "stream",
     "text": [
      "[0. 0. 0. 0. 0. 0. 0. 0. 0. 0.]\n",
      "[[0. 0. 0. 0. 0.]\n",
      " [0. 0. 0. 0. 0.]\n",
      " [0. 0. 0. 0. 0.]\n",
      " [0. 0. 0. 0. 0.]\n",
      " [0. 0. 0. 0. 0.]]\n",
      "[[[6.23042070e-307 1.86918699e-306 1.69121096e-306 9.45694586e-308]\n",
      "  [9.34598925e-307 1.37962456e-306 1.29061074e-306 8.90071985e-308]\n",
      "  [1.42417221e-306 7.56593017e-307 9.34611148e-307 1.24610383e-306]]\n",
      "\n",
      " [[1.69118108e-306 8.06632139e-308 1.20160711e-306 1.69119330e-306]\n",
      "  [1.29062229e-306 1.24610383e-306 6.89804132e-307 7.56602523e-307]\n",
      "  [1.78019625e-306 6.89811941e-307 1.24611741e-306 2.56765117e-312]]]\n"
     ]
    }
   ],
   "source": [
    "print(np.zeros(10))\n",
    "print(np.zeros((5,5)))\n",
    "print(np.empty((2,3,4)))"
   ]
  },
  {
   "cell_type": "code",
   "execution_count": 37,
   "id": "07d1b43e-e9e9-478f-97ec-752e7355df42",
   "metadata": {},
   "outputs": [
    {
     "name": "stdout",
     "output_type": "stream",
     "text": [
      "[ 0  1  2  3  4  5  6  7  8  9 10 11]\n"
     ]
    }
   ],
   "source": [
    "print(np.arange(12))"
   ]
  },
  {
   "cell_type": "markdown",
   "id": "4e704bb2-99b9-4162-ab63-131bacf95cb7",
   "metadata": {},
   "source": [
    "# 1.2 자료형"
   ]
  },
  {
   "cell_type": "code",
   "execution_count": 39,
   "id": "a9f1eda5-4cb1-4bb6-bea4-8a202690de8a",
   "metadata": {},
   "outputs": [
    {
     "name": "stdout",
     "output_type": "stream",
     "text": [
      "float64\n",
      "int32\n"
     ]
    }
   ],
   "source": [
    "arr1 = np.array([1, 2, 3], dtype = np.float64)\n",
    "arr2 = np.array([1, 2, 3], dtype = np.int32)\n",
    "\n",
    "print(arr1.dtype)\n",
    "print(arr2.dtype)"
   ]
  },
  {
   "cell_type": "code",
   "execution_count": 42,
   "id": "beec7d4c-9efc-4873-9c2e-0f683276fa8e",
   "metadata": {},
   "outputs": [
    {
     "name": "stdout",
     "output_type": "stream",
     "text": [
      "[1 2 3 4 5]\n",
      "[1. 2. 3. 4. 5.]\n",
      "float32\n"
     ]
    }
   ],
   "source": [
    "arr = np.array([1, 2, 3, 4, 5])\n",
    "print(arr)\n",
    "float_arr = arr.astype(np.float32)\n",
    "print(float_arr)\n",
    "print(float_arr.dtype)"
   ]
  },
  {
   "cell_type": "code",
   "execution_count": 47,
   "id": "03eebd38-cde9-4cc4-b569-5f0b64840aeb",
   "metadata": {},
   "outputs": [
    {
     "name": "stdout",
     "output_type": "stream",
     "text": [
      "[ 1  2  3 -1 -2 -3]\n"
     ]
    }
   ],
   "source": [
    "arr = np.array([1.1, 2.2, 3.3, -1.1, -2.2, -3.3])\n",
    "int_arr = arr.astype(np.int32)\n",
    "print(int_arr)"
   ]
  },
  {
   "cell_type": "code",
   "execution_count": 48,
   "id": "224a3342-847e-41fb-8f45-09d519a36a99",
   "metadata": {},
   "outputs": [
    {
     "name": "stdout",
     "output_type": "stream",
     "text": [
      "[12 34 56]\n"
     ]
    }
   ],
   "source": [
    "result = np.array(['12','34','56'], dtype=np.int32)\n",
    "print(result)"
   ]
  },
  {
   "cell_type": "markdown",
   "id": "d6d697e8-4cdc-466f-9c44-709896513d85",
   "metadata": {},
   "source": [
    "## 1.3 연산"
   ]
  },
  {
   "cell_type": "code",
   "execution_count": 51,
   "id": "1a4e1404-1bd6-4764-b968-52a57eb4e7c4",
   "metadata": {},
   "outputs": [
    {
     "name": "stdout",
     "output_type": "stream",
     "text": [
      "[[1 2 3]\n",
      " [4 5 6]]\n"
     ]
    }
   ],
   "source": [
    "a = [\n",
    "    [1,2,3],\n",
    "    [4,5,6]\n",
    "]\n",
    "arr = np.array(a)\n",
    "print(arr)"
   ]
  },
  {
   "cell_type": "code",
   "execution_count": 55,
   "id": "83806079-9263-4ba8-96ef-6a9028f750fb",
   "metadata": {},
   "outputs": [
    {
     "name": "stdout",
     "output_type": "stream",
     "text": [
      "[[ 2  4  6]\n",
      " [ 8 10 12]]\n",
      "[[0 0 0]\n",
      " [0 0 0]]\n",
      "[[0.1 0.2 0.3]\n",
      " [0.4 0.5 0.6]]\n",
      "[[ 1  4  9]\n",
      " [16 25 36]]\n"
     ]
    }
   ],
   "source": [
    "print(arr + arr)\n",
    "print(arr - arr)\n",
    "print(arr / 10)\n",
    "print(arr ** 2)"
   ]
  },
  {
   "cell_type": "code",
   "execution_count": 59,
   "id": "b8057201-2467-4342-94d8-99d064306364",
   "metadata": {},
   "outputs": [
    {
     "name": "stdout",
     "output_type": "stream",
     "text": [
      "[[1 2 3]\n",
      " [4 5 6]]\n",
      "[[3 2 1]\n",
      " [6 5 4]]\n",
      "[[False False  True]\n",
      " [False False  True]]\n"
     ]
    }
   ],
   "source": [
    "b = [\n",
    "    [3,2,1],\n",
    "    [6,5,4]\n",
    "]\n",
    "arr2 = np.array(b)\n",
    "print(arr)\n",
    "print(arr2)\n",
    "print(arr > arr2)"
   ]
  },
  {
   "cell_type": "markdown",
   "id": "ed77dbea-44c7-4fb8-a3ba-b215029eaf1c",
   "metadata": {},
   "source": [
    "## 1.4 인덱싱, 슬라이싱"
   ]
  },
  {
   "cell_type": "code",
   "execution_count": 66,
   "id": "0f731367-a3a2-42c8-87f3-886ebd906413",
   "metadata": {},
   "outputs": [
    {
     "name": "stdout",
     "output_type": "stream",
     "text": [
      "[0 1 2 3 4 5 6 7 8 9]\n",
      "5\n",
      "[ 0  1  2 99 99 99  6  7  8  9]\n"
     ]
    }
   ],
   "source": [
    "arr = np.arange(10)\n",
    "print(arr)\n",
    "print(arr[5])\n",
    "arr[3:6] = 99\n",
    "print(arr)"
   ]
  },
  {
   "cell_type": "code",
   "execution_count": 68,
   "id": "20b15569-1da6-48ab-902f-9295b5753d9c",
   "metadata": {},
   "outputs": [
    {
     "name": "stdout",
     "output_type": "stream",
     "text": [
      "[99 99 99]\n"
     ]
    }
   ],
   "source": [
    "slice_arr = arr[3:6]\n",
    "print(slice_arr)"
   ]
  },
  {
   "cell_type": "code",
   "execution_count": 70,
   "id": "426d66f3-b943-4b26-84ae-453d8f354e18",
   "metadata": {},
   "outputs": [
    {
     "name": "stdout",
     "output_type": "stream",
     "text": [
      "[99 55 99]\n",
      "[ 0  1  2 99 55 99  6  7  8  9]\n"
     ]
    }
   ],
   "source": [
    "slice_arr[1] = 55 \n",
    "print(slice_arr)\n",
    "print(arr)"
   ]
  },
  {
   "cell_type": "code",
   "execution_count": 71,
   "id": "b8f5f4eb-55dd-4ca8-bb2c-bbcd31280ab5",
   "metadata": {},
   "outputs": [
    {
     "name": "stdout",
     "output_type": "stream",
     "text": [
      "[  0   1   2 100 100 100   6   7   8   9]\n"
     ]
    }
   ],
   "source": [
    "slice_arr[:] = 100\n",
    "print(arr)"
   ]
  },
  {
   "cell_type": "code",
   "execution_count": 72,
   "id": "584ae35e-5d4b-42f0-b61c-062f822b8f3e",
   "metadata": {},
   "outputs": [
    {
     "name": "stdout",
     "output_type": "stream",
     "text": [
      "[[1 2 3]\n",
      " [4 5 6]\n",
      " [7 8 9]]\n"
     ]
    }
   ],
   "source": [
    "a = [\n",
    "    [1,2,3],\n",
    "    [4,5,6],\n",
    "    [7,8,9]\n",
    "]\n",
    "arr = np.array(a)\n",
    "print(arr)"
   ]
  },
  {
   "cell_type": "code",
   "execution_count": 73,
   "id": "d223866e-d495-42ce-bb87-f24530e82218",
   "metadata": {},
   "outputs": [
    {
     "name": "stdout",
     "output_type": "stream",
     "text": [
      "5\n"
     ]
    }
   ],
   "source": [
    "print(arr[1][1])"
   ]
  },
  {
   "cell_type": "code",
   "execution_count": 74,
   "id": "6ace6321-a152-46f5-a485-71a1d2a14df2",
   "metadata": {},
   "outputs": [
    {
     "name": "stdout",
     "output_type": "stream",
     "text": [
      "[[[ 1  2  3]\n",
      "  [ 4  5  6]]\n",
      "\n",
      " [[ 7  8  9]\n",
      "  [10 11 12]]]\n"
     ]
    }
   ],
   "source": [
    "a = [\n",
    "        [\n",
    "            [1, 2, 3],\n",
    "            [4, 5, 6],\n",
    "        ],\n",
    "        [\n",
    "            [7, 8, 9],\n",
    "            [10, 11, 12]\n",
    "        ]\n",
    "]\n",
    "arr = np.array(a)\n",
    "print(arr)"
   ]
  },
  {
   "cell_type": "code",
   "execution_count": 79,
   "id": "59ac96c9-b85e-4190-b7b3-ead84949b863",
   "metadata": {},
   "outputs": [
    {
     "name": "stdout",
     "output_type": "stream",
     "text": [
      "[[1 2 3]\n",
      " [4 5 6]]\n",
      "1\n",
      "1\n"
     ]
    }
   ],
   "source": [
    "print(arr[0])\n",
    "print(arr[0][0][0])\n",
    "print(arr[0,0][0])"
   ]
  },
  {
   "cell_type": "code",
   "execution_count": 84,
   "id": "ab9f887b-7671-48c2-bea2-5d4efc76d137",
   "metadata": {},
   "outputs": [
    {
     "name": "stdout",
     "output_type": "stream",
     "text": [
      "[1 2 3 4 5]\n",
      "[1 2 3 4 5 6 7 8 9]\n",
      "[1 2]\n"
     ]
    }
   ],
   "source": [
    "arr = np.arange(10)\n",
    "print(arr[1:6])\n",
    "print(arr[1:])\n",
    "print(arr[1:3])"
   ]
  },
  {
   "cell_type": "code",
   "execution_count": 87,
   "id": "c70f8bce-2171-42c6-b45d-a06b43a6cc63",
   "metadata": {},
   "outputs": [
    {
     "data": {
      "text/plain": [
       "array([[1, 2],\n",
       "       [4, 5]])"
      ]
     },
     "execution_count": 87,
     "metadata": {},
     "output_type": "execute_result"
    }
   ],
   "source": [
    "arr2d = np.arange(9).reshape(3,3)     # reshape : 내가 원하는 모양으로 바꿔줌.\n",
    "arr2d[:2]\n",
    "arr2d[:2, 1:]    # 행, 열 기준 슬라이싱"
   ]
  },
  {
   "cell_type": "code",
   "execution_count": 90,
   "id": "da4c772a-9441-40ef-a695-c1245cce860a",
   "metadata": {},
   "outputs": [
    {
     "data": {
      "text/plain": [
       "array([[0],\n",
       "       [3],\n",
       "       [6]])"
      ]
     },
     "execution_count": 90,
     "metadata": {},
     "output_type": "execute_result"
    }
   ],
   "source": [
    "arr2d[:, :1]"
   ]
  },
  {
   "cell_type": "markdown",
   "id": "455f790f-75f4-4401-a3cb-69f508b0583b",
   "metadata": {},
   "source": [
    "## bool 값으로 선택"
   ]
  },
  {
   "cell_type": "code",
   "execution_count": 99,
   "id": "fad67514-e452-4d46-a65f-145db832eb6a",
   "metadata": {},
   "outputs": [
    {
     "name": "stdout",
     "output_type": "stream",
     "text": [
      "['hong' 'kim' 'park' 'kim']\n",
      "[['수학' '70']\n",
      " ['영어' '80']\n",
      " ['수학' '100']\n",
      " ['수학' '90']]\n"
     ]
    }
   ],
   "source": [
    "names = ['hong','kim','park','kim']\n",
    "scores =  [\n",
    "    ['수학', 70],\n",
    "    ['영어', 80],\n",
    "    ['수학', 100],\n",
    "    ['수학', 90] \n",
    "]\n",
    "\n",
    "names_arr = np.array(names)\n",
    "scores_arr = np.array(scores)\n",
    "print(names_arr)\n",
    "print(scores_arr)"
   ]
  },
  {
   "cell_type": "code",
   "execution_count": 103,
   "id": "1f3a04e4-c4d8-4aee-b5df-7d9e07f14409",
   "metadata": {},
   "outputs": [
    {
     "data": {
      "text/plain": [
       "array([['수학', '100']], dtype='<U21')"
      ]
     },
     "execution_count": 103,
     "metadata": {},
     "output_type": "execute_result"
    }
   ],
   "source": [
    "names_arr == 'park'    # 또 다른 배열을 접근할 때 사용\n",
    "scores_arr[names_arr == 'park']"
   ]
  },
  {
   "cell_type": "code",
   "execution_count": 109,
   "id": "1d9c5c6f-1b5c-44ae-aa98-621f9660a596",
   "metadata": {},
   "outputs": [
    {
     "name": "stdout",
     "output_type": "stream",
     "text": [
      "[['영어' '80']\n",
      " ['수학' '90']]\n",
      "[['수학' '90']]\n"
     ]
    }
   ],
   "source": [
    "names_arr == 'kim'\n",
    "new_arr = scores_arr[names_arr == 'kim']\n",
    "print(new_arr)\n",
    "print(new_arr[1:])"
   ]
  },
  {
   "cell_type": "code",
   "execution_count": 111,
   "id": "f81e6a5a-262d-414b-b0df-6c8e5e08839a",
   "metadata": {},
   "outputs": [
    {
     "name": "stdout",
     "output_type": "stream",
     "text": [
      "['영어' '수학']\n",
      "[['영어' '80']\n",
      " ['수학' '90']]\n"
     ]
    }
   ],
   "source": [
    "print(scores_arr[names_arr == 'kim', 0])\n",
    "print(scores_arr[names_arr == 'kim'])"
   ]
  },
  {
   "cell_type": "code",
   "execution_count": 113,
   "id": "92d14af5-6c96-4b7a-9c62-7c0499286372",
   "metadata": {},
   "outputs": [
    {
     "name": "stdout",
     "output_type": "stream",
     "text": [
      "[ True False  True False]\n",
      "[ True False  True False]\n"
     ]
    }
   ],
   "source": [
    "print(names_arr != 'kim')\n",
    "print(~(names_arr == 'kim'))"
   ]
  },
  {
   "cell_type": "code",
   "execution_count": 114,
   "id": "649fd5da-1df8-4b98-b281-3efedc1efd37",
   "metadata": {},
   "outputs": [
    {
     "data": {
      "text/plain": [
       "array([['수학', '70']], dtype='<U21')"
      ]
     },
     "execution_count": 114,
     "metadata": {},
     "output_type": "execute_result"
    }
   ],
   "source": [
    "cond = names_arr == 'hong'\n",
    "scores_arr[cond]"
   ]
  },
  {
   "cell_type": "code",
   "execution_count": 115,
   "id": "7b7ff40a-82e0-4f24-ac86-84ec85faca24",
   "metadata": {},
   "outputs": [
    {
     "data": {
      "text/plain": [
       "array([['영어', '80'],\n",
       "       ['수학', '100'],\n",
       "       ['수학', '90']], dtype='<U21')"
      ]
     },
     "execution_count": 115,
     "metadata": {},
     "output_type": "execute_result"
    }
   ],
   "source": [
    "cond = (names_arr == 'kim') | (names_arr == 'park')\n",
    "scores_arr[cond]"
   ]
  },
  {
   "cell_type": "markdown",
   "id": "bed609ac-9880-4de5-96df-7fc1771a3068",
   "metadata": {},
   "source": [
    "## 1.6 팬시 인덱싱(fancy indexing)"
   ]
  },
  {
   "cell_type": "code",
   "execution_count": 123,
   "id": "8334fa46-6fdf-4654-9cc0-0ac120e19698",
   "metadata": {},
   "outputs": [
    {
     "name": "stdout",
     "output_type": "stream",
     "text": [
      "[[ 0  1  2  3]\n",
      " [ 4  5  6  7]\n",
      " [ 8  9 10 11]\n",
      " [12 13 14 15]\n",
      " [16 17 18 19]\n",
      " [20 21 22 23]\n",
      " [24 25 26 27]\n",
      " [28 29 30 31]]\n"
     ]
    }
   ],
   "source": [
    "arr = np.arange(32).reshape(8,4)\n",
    "print(arr)"
   ]
  },
  {
   "cell_type": "code",
   "execution_count": 126,
   "id": "8eb78374-514f-446e-8d5d-e80351b21530",
   "metadata": {},
   "outputs": [
    {
     "name": "stdout",
     "output_type": "stream",
     "text": [
      "[[ 0  1  2  3]\n",
      " [12 13 14 15]]\n",
      "---------------\n",
      "[[ 0  1  2  3]\n",
      " [12 13 14 15]\n",
      " [ 8  9 10 11]\n",
      " [ 4  5  6  7]\n",
      " [24 25 26 27]]\n"
     ]
    }
   ],
   "source": [
    "print(arr[[0,3]])\n",
    "print('---------------')\n",
    "print(arr[[0, 3, 2, 1, 6]])"
   ]
  },
  {
   "cell_type": "code",
   "execution_count": 127,
   "id": "abfcfe8d-c505-473d-9263-598e7349f58b",
   "metadata": {},
   "outputs": [
    {
     "name": "stdout",
     "output_type": "stream",
     "text": [
      "[[20 21 22 23]\n",
      " [28 29 30 31]]\n"
     ]
    }
   ],
   "source": [
    "print(arr[[-3,-1]])"
   ]
  },
  {
   "cell_type": "code",
   "execution_count": 130,
   "id": "9662f91b-034d-4679-8b9b-4a757654f486",
   "metadata": {},
   "outputs": [
    {
     "data": {
      "text/plain": [
       "array([15, 10,  5])"
      ]
     },
     "execution_count": 130,
     "metadata": {},
     "output_type": "execute_result"
    }
   ],
   "source": [
    "arr[[3, 2, 1], [3,2,1]]    # 특정개인값 탐색 가능, 3행 3열, 2행 2열, 1행 1열에 있는 데이터"
   ]
  },
  {
   "cell_type": "markdown",
   "id": "f89bc7ae-c424-4e58-8b71-fe3b34a10827",
   "metadata": {},
   "source": [
    "## 1.7 전치"
   ]
  },
  {
   "cell_type": "code",
   "execution_count": 133,
   "id": "d12c9878-565e-4b0d-bf4e-57c482a4b13c",
   "metadata": {},
   "outputs": [
    {
     "name": "stdout",
     "output_type": "stream",
     "text": [
      "[[ 0  1  2  3  4]\n",
      " [ 5  6  7  8  9]\n",
      " [10 11 12 13 14]]\n",
      "[[ 0  5 10]\n",
      " [ 1  6 11]\n",
      " [ 2  7 12]\n",
      " [ 3  8 13]\n",
      " [ 4  9 14]]\n"
     ]
    }
   ],
   "source": [
    "arr = np.arange(15).reshape(3,5)\n",
    "print(arr)\n",
    "print(arr.T)"
   ]
  },
  {
   "cell_type": "code",
   "execution_count": 135,
   "id": "b04fdca7-0138-4b61-b10e-b60bb5965958",
   "metadata": {},
   "outputs": [
    {
     "name": "stdout",
     "output_type": "stream",
     "text": [
      "[[ 30  80 130]\n",
      " [ 80 255 430]\n",
      " [130 430 730]]\n",
      "[[ 30  80 130]\n",
      " [ 80 255 430]\n",
      " [130 430 730]]\n"
     ]
    }
   ],
   "source": [
    "print(np.dot(arr, arr.T))\n",
    "print(arr @ arr.T)"
   ]
  },
  {
   "cell_type": "markdown",
   "id": "9acfe0cf-f52a-4435-8aa0-e06e3dda03bf",
   "metadata": {},
   "source": [
    "## 난수 생성\n"
   ]
  },
  {
   "cell_type": "code",
   "execution_count": 139,
   "id": "88c13bca-b23d-4f2a-bb2a-edd6e39dc779",
   "metadata": {},
   "outputs": [
    {
     "name": "stdout",
     "output_type": "stream",
     "text": [
      "[[ 1.08138807  0.09401128 -1.283351    0.66707617]\n",
      " [-0.31274645  0.6398743  -0.23754357 -0.73512001]\n",
      " [ 0.44309518 -0.29405818  0.40806329 -1.1798686 ]\n",
      " [ 0.88676409 -0.44325587  1.36066307  0.04272023]]\n"
     ]
    }
   ],
   "source": [
    "sample = np.random.standard_normal(size=(4,4))\n",
    "print(sample)"
   ]
  },
  {
   "cell_type": "code",
   "execution_count": 142,
   "id": "3580c869-be11-4a10-b559-69359eb5cdf1",
   "metadata": {},
   "outputs": [
    {
     "name": "stdout",
     "output_type": "stream",
     "text": [
      "[[1.03989811 0.30661259        nan 0.81674731]\n",
      " [       nan 0.79992144        nan        nan]\n",
      " [0.66565395        nan 0.63879832        nan]\n",
      " [0.94168152        nan 1.16647463 0.20668873]]\n"
     ]
    },
    {
     "name": "stderr",
     "output_type": "stream",
     "text": [
      "C:\\Users\\2-18\\AppData\\Local\\Temp\\ipykernel_7724\\2344619755.py:1: RuntimeWarning: invalid value encountered in sqrt\n",
      "  print(np.sqrt(sample))\n"
     ]
    }
   ],
   "source": [
    "print(np.sqrt(sample))"
   ]
  },
  {
   "cell_type": "code",
   "execution_count": 143,
   "id": "ca243802-00f5-4fcf-bef8-b76b8b37b39d",
   "metadata": {},
   "outputs": [
    {
     "name": "stdout",
     "output_type": "stream",
     "text": [
      "[[1.08138807 0.09401128 1.283351   0.66707617]\n",
      " [0.31274645 0.6398743  0.23754357 0.73512001]\n",
      " [0.44309518 0.29405818 0.40806329 1.1798686 ]\n",
      " [0.88676409 0.44325587 1.36066307 0.04272023]]\n"
     ]
    }
   ],
   "source": [
    "print(np.abs(sample))"
   ]
  },
  {
   "cell_type": "code",
   "execution_count": 147,
   "id": "960e5bbc-edde-470f-9952-f0c115e71635",
   "metadata": {},
   "outputs": [
    {
     "name": "stderr",
     "output_type": "stream",
     "text": [
      "C:\\Users\\2-18\\AppData\\Local\\Temp\\ipykernel_7724\\619758985.py:1: RuntimeWarning: invalid value encountered in sqrt\n",
      "  np.isnan(np.sqrt(sample))\n"
     ]
    },
    {
     "data": {
      "text/plain": [
       "array([[False, False,  True, False],\n",
       "       [ True, False,  True,  True],\n",
       "       [False,  True, False,  True],\n",
       "       [False,  True, False, False]])"
      ]
     },
     "execution_count": 147,
     "metadata": {},
     "output_type": "execute_result"
    }
   ],
   "source": [
    "np.isnan(np.sqrt(sample))"
   ]
  },
  {
   "cell_type": "code",
   "execution_count": 151,
   "id": "3999f5d5-d648-413c-9962-4153e6f536df",
   "metadata": {},
   "outputs": [
    {
     "name": "stdout",
     "output_type": "stream",
     "text": [
      "[ 0  1  0 ... 52 53 54]\n"
     ]
    }
   ],
   "source": [
    "import random\n",
    "position = 0\n",
    "walk = [position]\n",
    "nsteps = 10000\n",
    "\n",
    "for _ in range(nsteps):\n",
    "    step = 1 if random.randint(0,1) else -1\n",
    "    position += step\n",
    "    walk.append(position)\n",
    "walk_arr = np.array(walk)\n",
    "print(walk_arr)"
   ]
  },
  {
   "cell_type": "code",
   "execution_count": 153,
   "id": "3a985aa2-1e51-44ca-b555-f48b35666a9b",
   "metadata": {},
   "outputs": [
    {
     "data": {
      "text/plain": [
       "<Figure size 640x480 with 0 Axes>"
      ]
     },
     "execution_count": 153,
     "metadata": {},
     "output_type": "execute_result"
    },
    {
     "data": {
      "text/plain": [
       "<Figure size 640x480 with 0 Axes>"
      ]
     },
     "metadata": {},
     "output_type": "display_data"
    }
   ],
   "source": [
    "import matplotlib.pyplot as plt\n",
    "plt.figure()"
   ]
  },
  {
   "cell_type": "code",
   "execution_count": 154,
   "id": "29a9b632-f674-42ef-94f0-f5aada43cc30",
   "metadata": {},
   "outputs": [
    {
     "data": {
      "image/png": "[encoded data removed]",
      "text/plain": [
       "<Figure size 640x480 with 1 Axes>"
      ]
     },
     "metadata": {},
     "output_type": "display_data"
    }
   ],
   "source": [
    "plt.plot(walk_arr[:100])\n",
    "plt.show()"
   ]
  },
  {
   "cell_type": "code",
   "execution_count": 160,
   "id": "c8582000-244b-41dd-a028-378d7b55f2f6",
   "metadata": {},
   "outputs": [
    {
     "name": "stdout",
     "output_type": "stream",
     "text": [
      "8\n",
      "-8\n",
      "39\n"
     ]
    }
   ],
   "source": [
    "print(walk_arr[:100].max())\n",
    "print(walk_arr[:100].min())\n",
    "print((walk_arr[:100] >= 5).argmax())"
   ]
  },
  {
   "cell_type": "code",
   "execution_count": null,
   "id": "226655f4-bfa3-4e83-882d-6921d222bacc",
   "metadata": {},
   "outputs": [],
   "source": []
  }
 ],
 "metadata": {
  "kernelspec": {
   "display_name": "Python 3 (ipykernel)",
   "language": "python",
   "name": "python3"
  },
  "language_info": {
   "codemirror_mode": {
    "name": "ipython",
    "version": 3
   },
   "file_extension": ".py",
   "mimetype": "text/x-python",
   "name": "python",
   "nbconvert_exporter": "python",
   "pygments_lexer": "ipython3",
   "version": "3.12.4"
  }
 },
 "nbformat": 4,
 "nbformat_minor": 5
}
